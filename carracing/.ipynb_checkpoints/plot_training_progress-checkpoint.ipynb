{
 "cells": [
  {
   "cell_type": "markdown",
   "metadata": {},
   "source": [
    "# Notebook to plot training progress of agent\n",
    "\n",
    "It will obtain data from file stored in format like `bullet_racecar.cma.1.32.hist.json` and `.hist_best.json`, where format is `env_name.optimizer.num_rollouts.popsize.hist.json`.\n"
   ]
  },
  {
   "cell_type": "code",
   "execution_count": 1,
   "metadata": {},
   "outputs": [
    {
     "ename": "ModuleNotFoundError",
     "evalue": "No module named 'matplotlib'",
     "output_type": "error",
     "traceback": [
      "\u001b[1;31m---------------------------------------------------------------------------\u001b[0m",
      "\u001b[1;31mModuleNotFoundError\u001b[0m                       Traceback (most recent call last)",
      "\u001b[1;32m<ipython-input-1-b34b259ecc7d>\u001b[0m in \u001b[0;36m<module>\u001b[1;34m\u001b[0m\n\u001b[0;32m      2\u001b[0m \u001b[1;32mimport\u001b[0m \u001b[0mjson\u001b[0m\u001b[1;33m\u001b[0m\u001b[1;33m\u001b[0m\u001b[0m\n\u001b[0;32m      3\u001b[0m \u001b[1;32mimport\u001b[0m \u001b[0mos\u001b[0m\u001b[1;33m\u001b[0m\u001b[1;33m\u001b[0m\u001b[0m\n\u001b[1;32m----> 4\u001b[1;33m \u001b[1;32mimport\u001b[0m \u001b[0mmatplotlib\u001b[0m\u001b[1;33m.\u001b[0m\u001b[0mpyplot\u001b[0m \u001b[1;32mas\u001b[0m \u001b[0mplt\u001b[0m\u001b[1;33m\u001b[0m\u001b[1;33m\u001b[0m\u001b[0m\n\u001b[0m",
      "\u001b[1;31mModuleNotFoundError\u001b[0m: No module named 'matplotlib'"
     ]
    }
   ],
   "source": [
    "import numpy as np\n",
    "import json\n",
    "import os\n",
    "import matplotlib.pyplot as plt"
   ]
  },
  {
   "cell_type": "code",
   "execution_count": null,
   "metadata": {},
   "outputs": [],
   "source": [
    "env_name = 'carracing'\n",
    "optimizer = 'cma'\n",
    "num_rollouts = 16 # number of rollouts that are averaged over an episode\n",
    "popsize = 64"
   ]
  },
  {
   "cell_type": "code",
   "execution_count": null,
   "metadata": {},
   "outputs": [],
   "source": [
    "file_base = env_name+'.'+optimizer+'.'+str(num_rollouts)+'.'+str(popsize)\n",
    "filename = os.path.join('log', file_base+'.hist.json')\n",
    "with open(filename, 'r') as f:\n",
    "  raw_data = json.load(f)\n",
    "data = np.array(raw_data)\n",
    "print(data.shape)"
   ]
  },
  {
   "cell_type": "code",
   "execution_count": null,
   "metadata": {},
   "outputs": [],
   "source": [
    "required_score = 900.0\n",
    "file_base = env_name+'.'+optimizer+'.'+str(num_rollouts)+'.'+str(popsize)\n",
    "filename = os.path.join('log', file_base+'.hist_best.json')\n",
    "with open(filename, 'r') as f:\n",
    "  raw_data = json.load(f)\n",
    "raw_best_data = np.array(raw_data)\n",
    "print(raw_best_data.shape)\n",
    "best_data = []\n",
    "for bdata in raw_best_data:\n",
    "  best_data.append([float(bdata[0]), float(bdata[1]), float(bdata[5]), float(bdata[9]), required_score])\n",
    "best_data = np.array(best_data)"
   ]
  },
  {
   "cell_type": "code",
   "execution_count": null,
   "metadata": {},
   "outputs": [],
   "source": [
    "fig=plt.figure(figsize=(16, 10), dpi= 80, facecolor='w', edgecolor='k')\n",
    "line_mean, = plt.plot(data[:, 1]/(60*24*60), data[:, 2])\n",
    "line_min, = plt.plot(data[:, 1]/(60*24*60), data[:, 3])\n",
    "line_max, = plt.plot(data[:, 1]/(60*24*60), data[:, 4])\n",
    "line_best, = plt.plot(best_data[:, 1]/(60*24*60), best_data[:, 2])\n",
    "line_req, = plt.plot(best_data[:, 1]/(60*24*60), best_data[:, 4])\n",
    "plt.legend([line_mean, line_min, line_max, line_req, line_best], ['mean', 'min', 'max', 'requirement', 'best avg score'])\n",
    "plt.xlabel('wall-clock time (days)')\n",
    "plt.xticks(np.arange(0, 48, 5))\n",
    "plt.ylabel('cumulative reward')\n",
    "plt.yticks(np.arange(-100, 1000, 50))\n",
    "plt.title(file_base)\n",
    "plt.savefig(file_base+\".wall.svg\")\n",
    "plt.show()"
   ]
  },
  {
   "cell_type": "code",
   "execution_count": null,
   "metadata": {},
   "outputs": [],
   "source": [
    "fig=plt.figure(figsize=(16, 10), dpi= 80, facecolor='w', edgecolor='k')\n",
    "line_mean, = plt.plot(data[:, 0], data[:, 2])\n",
    "line_min, = plt.plot(data[:, 0], data[:, 3])\n",
    "line_max, = plt.plot(data[:, 0], data[:, 4])\n",
    "line_best, = plt.plot(best_data[:, 0], best_data[:, 2])\n",
    "line_req, = plt.plot(best_data[:, 0], best_data[:, 4])\n",
    "plt.legend([line_mean, line_min, line_max, line_req, line_best], ['mean', 'min', 'max', 'requirement', 'best avg score'])\n",
    "plt.xlabel('generation')\n",
    "plt.xticks(np.arange(0, 2000, 200))\n",
    "plt.ylabel('cumulative reward')\n",
    "plt.yticks(np.arange(-100, 1000, 50))\n",
    "plt.title(file_base)\n",
    "plt.savefig(file_base+\".svg\")\n",
    "plt.show()"
   ]
  },
  {
   "cell_type": "code",
   "execution_count": null,
   "metadata": {},
   "outputs": [],
   "source": []
  }
 ],
 "metadata": {
  "kernelspec": {
   "display_name": "Python 3",
   "language": "python",
   "name": "python3"
  },
  "language_info": {
   "codemirror_mode": {
    "name": "ipython",
    "version": 3
   },
   "file_extension": ".py",
   "mimetype": "text/x-python",
   "name": "python",
   "nbconvert_exporter": "python",
   "pygments_lexer": "ipython3",
   "version": "3.6.7"
  }
 },
 "nbformat": 4,
 "nbformat_minor": 2
}
